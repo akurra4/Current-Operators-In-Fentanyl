{
 "cells": [
  {
   "cell_type": "code",
   "execution_count": 90,
   "metadata": {},
   "outputs": [],
   "source": [
    "import pandas as pd\n",
    "data = []\n",
    "urls = []\n",
    "url = []\n",
    "names = []\n",
    "stock = []\n",
    "cn = []\n",
    "upos = []\n",
    "spos = []"
   ]
  },
  {
   "cell_type": "code",
   "execution_count": 91,
   "metadata": {},
   "outputs": [
    {
     "data": {
      "text/plain": [
       "1"
      ]
     },
     "execution_count": 91,
     "metadata": {},
     "output_type": "execute_result"
    }
   ],
   "source": [
    "casn = [\n",
    "    \"288573-56-8\"\n",
    "    ]\n",
    "#removing duplicate numbers from the list\n",
    "casn = list(dict.fromkeys(casn))\n",
    "len(casn)"
   ]
  },
  {
   "cell_type": "code",
   "execution_count": 92,
   "metadata": {},
   "outputs": [
    {
     "data": {
      "text/plain": [
       "1"
      ]
     },
     "execution_count": 92,
     "metadata": {},
     "output_type": "execute_result"
    }
   ],
   "source": [
    "from selenium import webdriver\n",
    "from selenium.webdriver.chrome.service import Service\n",
    "from webdriver_manager.chrome import ChromeDriverManager\n",
    "from selenium.webdriver.common.by import By\n",
    "from selenium.webdriver.common.action_chains import ActionChains\n",
    "import time\n",
    "\n",
    "\n",
    "for i in range (len(casn)):\n",
    "    for pg in range(1, 2):\n",
    "        # URL of the webpage you want to scrape\n",
    "        url1 = 'https://www.chemicalbook.com/ProductList_En.aspx?kwd='\n",
    "        CAS = casn[i]\n",
    "        url2 = '&a=China&left=True&page='\n",
    "        url3 = '#J_Condition'\n",
    "        url.append(url1 + CAS + url2 + str(pg) + url3)\n",
    "#delete duplicate urls in the list\n",
    "url = list(dict.fromkeys(url))\n",
    "len(url)"
   ]
  },
  {
   "cell_type": "code",
   "execution_count": 93,
   "metadata": {},
   "outputs": [
    {
     "name": "stdout",
     "output_type": "stream",
     "text": [
      "Progress: 100.0 %\n"
     ]
    }
   ],
   "source": [
    "for u in url:\n",
    "    \n",
    "    # Initialize the Chrome driver\n",
    "    service = Service(ChromeDriverManager().install())\n",
    "    driver = webdriver.Chrome(service=service)\n",
    "    \n",
    "    # Open the webpage\n",
    "    driver.get(u)\n",
    "\n",
    "    #make the webpage to have a full screen\n",
    "    driver.maximize_window()\n",
    "\n",
    "    stock_elements = driver.find_elements(By.CLASS_NAME, 'icon_prolist.stock_hw')\n",
    "    \n",
    "    actions = ActionChains(driver)\n",
    "\n",
    "    for s in range(len(stock_elements)):\n",
    "        \n",
    "        # Hover over the stock element to display the stock information\n",
    "        actions.move_to_element(stock_elements[s]).perform()\n",
    "\n",
    "        # Extract the name of the company\n",
    "        names.append(driver.find_elements(By.CLASS_NAME, 'list-title')[s].text)\n",
    "\n",
    "        # Extractinag  the information of the company's stock\n",
    "        stock.append(stock_elements[s].text)\n",
    "\n",
    "        # Extract the CAS number\n",
    "        cn.append(u.split('kwd=')[1].split('&a=')[0])\n",
    "\n",
    "        # Extract the URL\n",
    "        urls.append(u)\n",
    "\n",
    "    #Progress bar as percentage of completion\n",
    "    print('Progress:', round((url.index(u)+1)/len(url)*100, 2), '%')\n",
    "    \n",
    "    # Don't forget to close the browser!\n",
    "    driver.quit()\n",
    "\n",
    "    #set sleep time to avoid being blocked\n",
    "    time.sleep(1)"
   ]
  },
  {
   "cell_type": "code",
   "execution_count": 94,
   "metadata": {},
   "outputs": [
    {
     "name": "stdout",
     "output_type": "stream",
     "text": [
      "['ZHEJIANG JIUZHOU CHEM CO., LTD', 'Wuhan Boyuan Import & Export Co., LTD', 'Siyang Liaoning Biochemical Products Co. Ltd', 'Anhui Yisheng Technology Co., LTD', 'Hebei Endun Biological Technology Co. LTD', 'Zhengzhou Lingzhiyue Technology Co., Ltd', 'Shandong Huisheng Import & Export Co., Ltd.', 'Anhui Zhongda Biotechnology Co., Ltd', 'Nantong Guangyuan Chemicl Co,Ltd'] \n",
      " \n",
      " ['288573-56-8', '288573-56-8', '288573-56-8', '288573-56-8', '288573-56-8', '288573-56-8', '288573-56-8', '288573-56-8', '288573-56-8'] \n",
      " ['https://www.chemicalbook.com/ProductList_En.aspx?kwd=288573-56-8&a=China&left=True&page=1#J_Condition', 'https://www.chemicalbook.com/ProductList_En.aspx?kwd=288573-56-8&a=China&left=True&page=1#J_Condition', 'https://www.chemicalbook.com/ProductList_En.aspx?kwd=288573-56-8&a=China&left=True&page=1#J_Condition', 'https://www.chemicalbook.com/ProductList_En.aspx?kwd=288573-56-8&a=China&left=True&page=1#J_Condition', 'https://www.chemicalbook.com/ProductList_En.aspx?kwd=288573-56-8&a=China&left=True&page=1#J_Condition', 'https://www.chemicalbook.com/ProductList_En.aspx?kwd=288573-56-8&a=China&left=True&page=1#J_Condition', 'https://www.chemicalbook.com/ProductList_En.aspx?kwd=288573-56-8&a=China&left=True&page=1#J_Condition', 'https://www.chemicalbook.com/ProductList_En.aspx?kwd=288573-56-8&a=China&left=True&page=1#J_Condition', 'https://www.chemicalbook.com/ProductList_En.aspx?kwd=288573-56-8&a=China&left=True&page=1#J_Condition']\n",
      "\n",
      "Updated-Feb23,2023\n",
      "1-BOC-4-(4-FLUORO-PHENYLAMINO)-PIPERIDINE,99%\n",
      "Package Price(USD) In stock Inventory location\n",
      "25kg 1666.00 5000 chian\n",
      "\n",
      "Updated-Apr25,2022\n",
      "1-BOC-4-(4-FLUORO-PHENYLAMINO)-PIPERIDINE,99%\n",
      "Package Price(USD) In stock Inventory location\n",
      "1kg 10.00 1000 HK\n",
      "\n",
      "Updated-Apr17,2023\n",
      "tert-butyl 4-(4-fluoroanilino)piperidine-1-carboxylate,99.8\n",
      "Package Price(USD) In stock Inventory location\n",
      "1g 2.00 2000000 China\n",
      "\n",
      "Updated-Jul14,2021\n",
      "tert-butyl 4-(4-fluoroanilino)piperidine-1-carboxylate,99%\n",
      "Package Price(USD) In stock Inventory location\n",
      "25kg 10.00 10000 china\n",
      "Updated-Oct24,2023\n",
      "tert-butyl 4-(4-fluoroanilino)piperidine-1-carboxylate,99%\n",
      "Package Price(USD) In stock Inventory location\n",
      "1kg 50.00 1000 China\n"
     ]
    },
    {
     "data": {
      "text/html": [
       "<div>\n",
       "<style scoped>\n",
       "    .dataframe tbody tr th:only-of-type {\n",
       "        vertical-align: middle;\n",
       "    }\n",
       "\n",
       "    .dataframe tbody tr th {\n",
       "        vertical-align: top;\n",
       "    }\n",
       "\n",
       "    .dataframe thead th {\n",
       "        text-align: right;\n",
       "    }\n",
       "</style>\n",
       "<table border=\"1\" class=\"dataframe\">\n",
       "  <thead>\n",
       "    <tr style=\"text-align: right;\">\n",
       "      <th></th>\n",
       "      <th>Name</th>\n",
       "      <th>Product</th>\n",
       "      <th>CAS</th>\n",
       "      <th>Updated_Date</th>\n",
       "      <th>Weight</th>\n",
       "      <th>Price(USD)</th>\n",
       "      <th>Source_URL</th>\n",
       "    </tr>\n",
       "  </thead>\n",
       "  <tbody>\n",
       "    <tr>\n",
       "      <th>0</th>\n",
       "      <td>ZHEJIANG JIUZHOU CHEM CO., LTD</td>\n",
       "      <td>1-BOC-4-(4-FLUORO-PHENYLAMINO)-PIPERIDINE,99%</td>\n",
       "      <td>288573-56-8</td>\n",
       "      <td>Feb23,2023</td>\n",
       "      <td>25kg</td>\n",
       "      <td>1666.00</td>\n",
       "      <td>https://www.chemicalbook.com/ProductList_En.as...</td>\n",
       "    </tr>\n",
       "    <tr>\n",
       "      <th>1</th>\n",
       "      <td>Wuhan Boyuan Import &amp; Export Co., LTD</td>\n",
       "      <td>1-BOC-4-(4-FLUORO-PHENYLAMINO)-PIPERIDINE,99%</td>\n",
       "      <td>288573-56-8</td>\n",
       "      <td>Apr25,2022</td>\n",
       "      <td>1kg</td>\n",
       "      <td>10.00</td>\n",
       "      <td>https://www.chemicalbook.com/ProductList_En.as...</td>\n",
       "    </tr>\n",
       "    <tr>\n",
       "      <th>2</th>\n",
       "      <td>Siyang Liaoning Biochemical Products Co. Ltd</td>\n",
       "      <td>tert-butyl 4-(4-fluoroanilino)piperidine-1-car...</td>\n",
       "      <td>288573-56-8</td>\n",
       "      <td>Apr17,2023</td>\n",
       "      <td>1g</td>\n",
       "      <td>2.00</td>\n",
       "      <td>https://www.chemicalbook.com/ProductList_En.as...</td>\n",
       "    </tr>\n",
       "    <tr>\n",
       "      <th>3</th>\n",
       "      <td>Anhui Yisheng Technology Co., LTD</td>\n",
       "      <td>tert-butyl 4-(4-fluoroanilino)piperidine-1-car...</td>\n",
       "      <td>288573-56-8</td>\n",
       "      <td>Jul14,2021</td>\n",
       "      <td>25kg</td>\n",
       "      <td>10.00</td>\n",
       "      <td>https://www.chemicalbook.com/ProductList_En.as...</td>\n",
       "    </tr>\n",
       "    <tr>\n",
       "      <th>4</th>\n",
       "      <td>Hebei Endun Biological Technology Co. LTD</td>\n",
       "      <td>tert-butyl 4-(4-fluoroanilino)piperidine-1-car...</td>\n",
       "      <td>288573-56-8</td>\n",
       "      <td>Oct24,2023</td>\n",
       "      <td>1kg</td>\n",
       "      <td>50.00</td>\n",
       "      <td>https://www.chemicalbook.com/ProductList_En.as...</td>\n",
       "    </tr>\n",
       "  </tbody>\n",
       "</table>\n",
       "</div>"
      ],
      "text/plain": [
       "                                           Name  \\\n",
       "0                ZHEJIANG JIUZHOU CHEM CO., LTD   \n",
       "1         Wuhan Boyuan Import & Export Co., LTD   \n",
       "2  Siyang Liaoning Biochemical Products Co. Ltd   \n",
       "3             Anhui Yisheng Technology Co., LTD   \n",
       "4     Hebei Endun Biological Technology Co. LTD   \n",
       "\n",
       "                                             Product          CAS  \\\n",
       "0      1-BOC-4-(4-FLUORO-PHENYLAMINO)-PIPERIDINE,99%  288573-56-8   \n",
       "1      1-BOC-4-(4-FLUORO-PHENYLAMINO)-PIPERIDINE,99%  288573-56-8   \n",
       "2  tert-butyl 4-(4-fluoroanilino)piperidine-1-car...  288573-56-8   \n",
       "3  tert-butyl 4-(4-fluoroanilino)piperidine-1-car...  288573-56-8   \n",
       "4  tert-butyl 4-(4-fluoroanilino)piperidine-1-car...  288573-56-8   \n",
       "\n",
       "  Updated_Date Weight Price(USD)  \\\n",
       "0   Feb23,2023   25kg    1666.00   \n",
       "1   Apr25,2022    1kg      10.00   \n",
       "2   Apr17,2023     1g       2.00   \n",
       "3   Jul14,2021   25kg      10.00   \n",
       "4   Oct24,2023    1kg      50.00   \n",
       "\n",
       "                                          Source_URL  \n",
       "0  https://www.chemicalbook.com/ProductList_En.as...  \n",
       "1  https://www.chemicalbook.com/ProductList_En.as...  \n",
       "2  https://www.chemicalbook.com/ProductList_En.as...  \n",
       "3  https://www.chemicalbook.com/ProductList_En.as...  \n",
       "4  https://www.chemicalbook.com/ProductList_En.as...  "
      ]
     },
     "execution_count": 94,
     "metadata": {},
     "output_type": "execute_result"
    }
   ],
   "source": [
    "dates = []\n",
    "products = []\n",
    "price = []\n",
    "weights = []\n",
    "\n",
    "print (names,'\\n','\\n',cn,'\\n',urls)\n",
    "\n",
    "for d in stock:\n",
    "    try:\n",
    "        print (d)\n",
    "        dates.append(d.split('\\n')[0].split('-')[1])\n",
    "        products.append(d.split('\\n')[1])\n",
    "        price.append(d.split('\\n')[3].split(' ')[1])\n",
    "        weights.append(d.split('\\n')[3].split(' ')[0])\n",
    "    except:\n",
    "        pass\n",
    "\n",
    "stock_df = pd.DataFrame(list(zip(names,products,cn, dates,weights, price, urls)), columns =['Name','Product','CAS','Updated_Date','Weight','Price(USD)','Source_URL'])\n",
    "stock_df"
   ]
  },
  {
   "cell_type": "code",
   "execution_count": 95,
   "metadata": {},
   "outputs": [
    {
     "name": "stdout",
     "output_type": "stream",
     "text": [
      "9 9 9 5 5 5 5\n"
     ]
    }
   ],
   "source": [
    "print (len(names), len(cn), len(urls), len(products), len(dates), len(weights), len(price))"
   ]
  }
 ],
 "metadata": {
  "kernelspec": {
   "display_name": "base",
   "language": "python",
   "name": "python3"
  },
  "language_info": {
   "codemirror_mode": {
    "name": "ipython",
    "version": 3
   },
   "file_extension": ".py",
   "mimetype": "text/x-python",
   "name": "python",
   "nbconvert_exporter": "python",
   "pygments_lexer": "ipython3",
   "version": "3.9.13"
  }
 },
 "nbformat": 4,
 "nbformat_minor": 2
}
